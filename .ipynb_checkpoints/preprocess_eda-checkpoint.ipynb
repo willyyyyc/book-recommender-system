{
 "cells": [
  {
   "cell_type": "markdown",
   "metadata": {},
   "source": [
    "# Book Recommender System\n",
    "## Data Preprocessing / Exploratory Data Analysis\n",
    "Load, process, and explore datasets.\n",
    "\n",
    "Sources:\n",
    "- Cai-Nicolas Ziegler. (2004). Books Dataset, Version 1. Retrieved 07-30-2024 from https://www.kaggle.com/datasets/saurabhbagchi/books-dataset/data."
   ]
  },
  {
   "cell_type": "code",
   "execution_count": 1,
   "metadata": {},
   "outputs": [],
   "source": [
    "import pandas as pd\n",
    "import os"
   ]
  },
  {
   "cell_type": "code",
   "execution_count": 2,
   "metadata": {},
   "outputs": [],
   "source": [
    "def load_csv_files(directory):\n",
    "    \"\"\"Load CSV files from 'directory'\n",
    "    \n",
    "    return pandas dataframe\n",
    "    \"\"\"\n",
    "    dataframes = []\n",
    "    for filename in os.listdir(directory):\n",
    "        if filename.endswith('.csv'):\n",
    "            filepath = os.path.join(directory, filename)\n",
    "            df = pd.read_csv(filepath, sep=';',\n",
    "                                       on_bad_lines='skip',\n",
    "                                       encoding='latin-1',\n",
    "                                       dtype='object')\n",
    "            dataframes.append(df)\n",
    "    return dataframes"
   ]
  },
  {
   "cell_type": "code",
   "execution_count": 3,
   "metadata": {},
   "outputs": [
    {
     "name": "stdout",
     "output_type": "stream",
     "text": [
      "Users dataframe shape:  (278858, 3)\n",
      "Ratings dataframe shape:  (1149780, 3)\n",
      "Books dataframe shape:  (271360, 8)\n",
      "success\n"
     ]
    }
   ],
   "source": [
    "dataframes = load_csv_files('data/raw/')\n",
    "   \n",
    "print(\"Users dataframe shape: \" , dataframes[0].shape)\n",
    "print(\"Ratings dataframe shape: \" , dataframes[1].shape)\n",
    "print(\"Books dataframe shape: \" , dataframes[2].shape)\n",
    "print('success')"
   ]
  },
  {
   "cell_type": "code",
   "execution_count": null,
   "metadata": {},
   "outputs": [],
   "source": []
  }
 ],
 "metadata": {
  "kernelspec": {
   "display_name": "Python 3 (ipykernel)",
   "language": "python",
   "name": "python3"
  },
  "language_info": {
   "codemirror_mode": {
    "name": "ipython",
    "version": 3
   },
   "file_extension": ".py",
   "mimetype": "text/x-python",
   "name": "python",
   "nbconvert_exporter": "python",
   "pygments_lexer": "ipython3",
   "version": "3.12.4"
  },
  "vscode": {
   "interpreter": {
    "hash": "b0d0fe587028adb709a0d188f3d7c69ea8079a03c3fc1bc4af37f79f28635afb"
   }
  }
 },
 "nbformat": 4,
 "nbformat_minor": 4
}
