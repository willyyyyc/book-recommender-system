{
 "cells": [
  {
   "cell_type": "code",
   "execution_count": 1,
   "metadata": {},
   "outputs": [],
   "source": [
    "import pandas as pd\n",
    "import os"
   ]
  },
  {
   "cell_type": "code",
   "execution_count": 2,
   "metadata": {},
   "outputs": [],
   "source": [
    "def load_csv_files(directory):\n",
    "    \"\"\"Load CSV files from 'directory'\n",
    "    \n",
    "    return pandas dataframe\n",
    "    \"\"\"\n",
    "    dataframes = []\n",
    "    for filename in os.listdir(directory):\n",
    "        if filename.endswith('.csv'):\n",
    "            filepath = os.path.join(directory, filename)\n",
    "            df = pd.read_csv(filepath, sep=';',\n",
    "                                       on_bad_lines='skip',\n",
    "                                       encoding='latin-1',\n",
    "                                       dtype='object')\n",
    "            dataframes.append(df)\n",
    "    return dataframes"
   ]
  },
  {
   "cell_type": "code",
   "execution_count": 3,
   "metadata": {},
   "outputs": [
    {
     "name": "stdout",
     "output_type": "stream",
     "text": [
      "Users dataframe shape:  (278858, 3)\n",
      "Ratings dataframe shape:  (1149780, 3)\n",
      "Books dataframe shape:  (271360, 8)\n",
      "success\n"
     ]
    }
   ],
   "source": [
    "dataframes = load_csv_files('data/raw/')\n",
    "   \n",
    "print(\"Users dataframe shape: \" , dataframes[0].shape)\n",
    "print(\"Ratings dataframe shape: \" , dataframes[1].shape)\n",
    "print(\"Books dataframe shape: \" , dataframes[2].shape)\n",
    "print('success')"
   ]
  },
  {
   "cell_type": "code",
   "execution_count": null,
   "metadata": {},
   "outputs": [],
   "source": []
  }
 ],
 "metadata": {
  "kernelspec": {
   "display_name": "Python 3.11.5 ('base')",
   "language": "python",
   "name": "python3"
  },
  "language_info": {
   "codemirror_mode": {
    "name": "ipython",
    "version": 3
   },
   "file_extension": ".py",
   "mimetype": "text/x-python",
   "name": "python",
   "nbconvert_exporter": "python",
   "pygments_lexer": "ipython3",
   "version": "3.11.5"
  },
  "orig_nbformat": 4,
  "vscode": {
   "interpreter": {
    "hash": "b0d0fe587028adb709a0d188f3d7c69ea8079a03c3fc1bc4af37f79f28635afb"
   }
  }
 },
 "nbformat": 4,
 "nbformat_minor": 2
}
